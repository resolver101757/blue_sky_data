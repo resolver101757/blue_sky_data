{
 "cells": [
  {
   "cell_type": "code",
   "execution_count": 6,
   "metadata": {},
   "outputs": [
    {
     "data": {
      "text/plain": [
       "ProfileViewDetailed(did='did:plc:oc7nomnf7bsgmraom72ts3fp', handle='alex-paul-kelly.bsky.social', associated=ProfileAssociated(chat=None, feedgens=0, labeler=False, lists=0, starter_packs=0, py_type='app.bsky.actor.defs#profileAssociated'), avatar='https://cdn.bsky.app/img/avatar/plain/did:plc:oc7nomnf7bsgmraom72ts3fp/bafkreiasgk56xkl76blphf7uo2yprnv45smrs56w4vouxphmaav6jibpzm@jpeg', banner=None, created_at='2024-11-19T13:11:41.438Z', description=None, display_name='', followers_count=11, follows_count=303, indexed_at='2024-11-19T13:11:41.438Z', joined_via_starter_pack=None, labels=[], pinned_post=None, posts_count=5, viewer=ViewerState(blocked_by=False, blocking=None, blocking_by_list=None, followed_by=None, following=None, known_followers=KnownFollowers(count=5, followers=[ProfileViewBasic(did='did:plc:5hkogxu5u4wkelj6qm6iarip', handle='aisupremacy.bsky.social', associated=None, avatar='https://cdn.bsky.app/img/avatar/plain/did:plc:5hkogxu5u4wkelj6qm6iarip/bafkreicianwa7fzkz5dcgnb344oaaerpgnn54253gq4fb3vb3rsdke6z7e@jpeg', created_at='2023-05-14T04:51:30.932Z', display_name='Michael Kevin Spencer', labels=[], viewer=ViewerState(blocked_by=False, blocking=None, blocking_by_list=None, followed_by='at://did:plc:5hkogxu5u4wkelj6qm6iarip/app.bsky.graph.follow/3lbopxwal2v2z', following='at://did:plc:oc7nomnf7bsgmraom72ts3fp/app.bsky.graph.follow/3lbov7pq5l32i', known_followers=None, muted=False, muted_by_list=None, py_type='app.bsky.actor.defs#viewerState'), py_type='app.bsky.actor.defs#profileViewBasic'), ProfileViewBasic(did='did:plc:agq4mh5ivxmxgqcjyw5k653m', handle='rolando-sgarcia.bsky.social', associated=None, avatar='https://cdn.bsky.app/img/avatar/plain/did:plc:agq4mh5ivxmxgqcjyw5k653m/bafkreid3ec3qwdh4hh66ixgwnwsxr6kngmqbtphqrisl26ne336772qk7m@jpeg', created_at='2024-09-03T19:35:45.240Z', display_name='Rolando Garcia', labels=[], viewer=ViewerState(blocked_by=False, blocking=None, blocking_by_list=None, followed_by='at://did:plc:agq4mh5ivxmxgqcjyw5k653m/app.bsky.graph.follow/3lbkqw5zmwn2d', following='at://did:plc:oc7nomnf7bsgmraom72ts3fp/app.bsky.graph.follow/3lbkno7f3lr2i', known_followers=None, muted=False, muted_by_list=None, py_type='app.bsky.actor.defs#viewerState'), py_type='app.bsky.actor.defs#profileViewBasic'), ProfileViewBasic(did='did:plc:fbys5luib3cir4ba6arbio7m', handle='senorcarbone.bsky.social', associated=None, avatar='https://cdn.bsky.app/img/avatar/plain/did:plc:fbys5luib3cir4ba6arbio7m/bafkreicmf2cg4x77hdqk3l2hob26rs66tkpy4fpegflbdk2cacfw5y4z2a@jpeg', created_at='2023-12-24T20:07:47.961Z', display_name='Paris Carbone', labels=[], viewer=ViewerState(blocked_by=False, blocking=None, blocking_by_list=None, followed_by='at://did:plc:fbys5luib3cir4ba6arbio7m/app.bsky.graph.follow/3lbknrbjdsi2l', following='at://did:plc:oc7nomnf7bsgmraom72ts3fp/app.bsky.graph.follow/3lbknpeyi3g2o', known_followers=None, muted=False, muted_by_list=None, py_type='app.bsky.actor.defs#viewerState'), py_type='app.bsky.actor.defs#profileViewBasic'), ProfileViewBasic(did='did:plc:htrbf6kwqgkbqvwfdopp6wsq', handle='qgallouedec.hf.co', associated=None, avatar='https://cdn.bsky.app/img/avatar/plain/did:plc:htrbf6kwqgkbqvwfdopp6wsq/bafkreigfsj54huzrq6uilncgmdnt4kqub5ha5ptgr56gcrwtmzw3gjg734@jpeg', created_at='2024-11-18T14:58:22.181Z', display_name='Quentin Gallouédec', labels=[], viewer=ViewerState(blocked_by=False, blocking=None, blocking_by_list=None, followed_by='at://did:plc:htrbf6kwqgkbqvwfdopp6wsq/app.bsky.graph.follow/3lbenhqibzk2w', following='at://did:plc:oc7nomnf7bsgmraom72ts3fp/app.bsky.graph.follow/3lbcmp673rs2i', known_followers=None, muted=False, muted_by_list=None, py_type='app.bsky.actor.defs#viewerState'), py_type='app.bsky.actor.defs#profileViewBasic'), ProfileViewBasic(did='did:plc:irqsdm7ywdlplc7wdkg6sccz', handle='sheckjuarez.bsky.social', associated=None, avatar='https://cdn.bsky.app/img/avatar/plain/did:plc:irqsdm7ywdlplc7wdkg6sccz/bafkreibsdrhvdgaifaphl4vk6k2brsmutjwr2itmfhb3apklbnb7k3jb7y@jpeg', created_at='2024-11-20T14:26:01.506Z', display_name='SheckJuarez', labels=[], viewer=ViewerState(blocked_by=False, blocking=None, blocking_by_list=None, followed_by='at://did:plc:irqsdm7ywdlplc7wdkg6sccz/app.bsky.graph.follow/3lbpih7stpk2i', following='at://did:plc:oc7nomnf7bsgmraom72ts3fp/app.bsky.graph.follow/3lbpj4n3ker27', known_followers=None, muted=False, muted_by_list=None, py_type='app.bsky.actor.defs#viewerState'), py_type='app.bsky.actor.defs#profileViewBasic')], py_type='app.bsky.actor.defs#knownFollowers'), muted=False, muted_by_list=None, py_type='app.bsky.actor.defs#viewerState'), py_type='app.bsky.actor.defs#profileViewDetailed')"
      ]
     },
     "execution_count": 6,
     "metadata": {},
     "output_type": "execute_result"
    }
   ],
   "source": [
    "from atproto import Client, client_utils\n",
    "from dotenv import load_dotenv\n",
    "import sqlite3\n",
    "import time \n",
    "import os\n",
    "\n",
    "load_dotenv()\n",
    "\n",
    "username = os.getenv('username')\n",
    "password = os.getenv('password')\n",
    "\n",
    "client = Client()\n",
    "client.login(username, password)"
   ]
  },
  {
   "cell_type": "code",
   "execution_count": 7,
   "metadata": {},
   "outputs": [
    {
     "name": "stdout",
     "output_type": "stream",
     "text": [
      "Database setup complete. Starting feed...\n"
     ]
    }
   ],
   "source": [
    "# Set up SQLite database\n",
    "conn = sqlite3.connect('bsky_posts.db')\n",
    "cursor = conn.cursor()\n",
    "\n",
    "# Create table if it doesn't exist\n",
    "cursor.execute('''\n",
    "    CREATE TABLE IF NOT EXISTS posts (\n",
    "        id INTEGER PRIMARY KEY AUTOINCREMENT,\n",
    "        author TEXT,\n",
    "        text TEXT\n",
    "    )\n",
    "''')\n",
    "conn.commit()\n",
    "\n",
    "print(\"Database setup complete. Starting feed...\")"
   ]
  },
  {
   "cell_type": "code",
   "execution_count": 8,
   "metadata": {},
   "outputs": [],
   "source": [
    "# Keep track of the most recent post we've seen\n",
    "last_seen_post = None\n",
    "\n",
    "while True:\n",
    "    try:\n",
    "        # Get the timeline\n",
    "        timeline = client.get_timeline(limit=50)  # Adjust limit as needed\n",
    "\n",
    "        # Iterate through posts, newest first\n",
    "        for post in reversed(timeline.feed):\n",
    "            # If we've seen this post before, skip to the next one\n",
    "            if last_seen_post and post.post.cid == last_seen_post:\n",
    "                break\n",
    "            \n",
    "            # Insert post into database\n",
    "            cursor.execute('''\n",
    "                INSERT INTO posts (author, text) VALUES (?, ?)\n",
    "            ''', (post.post.author.handle, post.post.record.text))\n",
    "            \n",
    "            # # Print post details\n",
    "            # print(f\"Author: {post.post.author.handle}\")\n",
    "            # print(f\"Text: {post.post.record.text}\")\n",
    "            # print(\"---\")\n",
    "\n",
    "        # Commit the changes to the database\n",
    "        conn.commit()\n",
    "\n",
    "        # Update the last seen post\n",
    "        if timeline.feed:\n",
    "            last_seen_post = timeline.feed[0].post.cid\n",
    "\n",
    "        # Wait for a bit before checking again\n",
    "        time.sleep(60)  # Wait for 60 seconds\n",
    "        \n",
    "    except KeyboardInterrupt:\n",
    "        print(\"\\nExiting the feed loop...\")\n",
    "        break\n",
    "    except Exception as e:\n",
    "        print(f\"An error occurred: {e}\")\n",
    "        print(\"Waiting before trying again...\")\n",
    "        time.sleep(300)  # Wait for 5 minutes before trying again\n",
    "\n",
    "# Close the database connection\n",
    "conn.close()\n",
    "print(\"Database connection closed. Exiting program.\")"
   ]
  },
  {
   "cell_type": "code",
   "execution_count": null,
   "metadata": {},
   "outputs": [],
   "source": []
  },
  {
   "cell_type": "code",
   "execution_count": null,
   "metadata": {},
   "outputs": [],
   "source": []
  }
 ],
 "metadata": {
  "kernelspec": {
   "display_name": "base",
   "language": "python",
   "name": "python3"
  },
  "language_info": {
   "codemirror_mode": {
    "name": "ipython",
    "version": 3
   },
   "file_extension": ".py",
   "mimetype": "text/x-python",
   "name": "python",
   "nbconvert_exporter": "python",
   "pygments_lexer": "ipython3",
   "version": "3.12.2"
  }
 },
 "nbformat": 4,
 "nbformat_minor": 2
}
