{
 "cells": [
  {
   "cell_type": "code",
   "execution_count": 2,
   "metadata": {},
   "outputs": [
    {
     "ename": "ValueError",
     "evalue": "Either session_string or login and password should be provided.",
     "output_type": "error",
     "traceback": [
      "\u001b[0;31m---------------------------------------------------------------------------\u001b[0m",
      "\u001b[0;31mValueError\u001b[0m                                Traceback (most recent call last)",
      "Cell \u001b[0;32mIn[2], line 13\u001b[0m\n\u001b[1;32m     10\u001b[0m password \u001b[38;5;241m=\u001b[39m os\u001b[38;5;241m.\u001b[39mgetenv(\u001b[38;5;124m'\u001b[39m\u001b[38;5;124mpassword\u001b[39m\u001b[38;5;124m'\u001b[39m)\n\u001b[1;32m     12\u001b[0m client \u001b[38;5;241m=\u001b[39m Client()\n\u001b[0;32m---> 13\u001b[0m \u001b[43mclient\u001b[49m\u001b[38;5;241;43m.\u001b[39;49m\u001b[43mlogin\u001b[49m\u001b[43m(\u001b[49m\u001b[43musername\u001b[49m\u001b[43m,\u001b[49m\u001b[43m \u001b[49m\u001b[43mpassword\u001b[49m\u001b[43m)\u001b[49m\n",
      "File \u001b[0;32m~/miniconda3/lib/python3.12/site-packages/atproto_client/client/client.py:107\u001b[0m, in \u001b[0;36mClient.login\u001b[0;34m(self, login, password, session_string)\u001b[0m\n\u001b[1;32m    105\u001b[0m     session \u001b[38;5;241m=\u001b[39m \u001b[38;5;28mself\u001b[39m\u001b[38;5;241m.\u001b[39m_get_and_set_session(login, password)\n\u001b[1;32m    106\u001b[0m \u001b[38;5;28;01melse\u001b[39;00m:\n\u001b[0;32m--> 107\u001b[0m     \u001b[38;5;28;01mraise\u001b[39;00m \u001b[38;5;167;01mValueError\u001b[39;00m(\u001b[38;5;124m'\u001b[39m\u001b[38;5;124mEither session_string or login and password should be provided.\u001b[39m\u001b[38;5;124m'\u001b[39m)\n\u001b[1;32m    109\u001b[0m \u001b[38;5;28mself\u001b[39m\u001b[38;5;241m.\u001b[39mme \u001b[38;5;241m=\u001b[39m \u001b[38;5;28mself\u001b[39m\u001b[38;5;241m.\u001b[39mapp\u001b[38;5;241m.\u001b[39mbsky\u001b[38;5;241m.\u001b[39mactor\u001b[38;5;241m.\u001b[39mget_profile(models\u001b[38;5;241m.\u001b[39mAppBskyActorGetProfile\u001b[38;5;241m.\u001b[39mParams(actor\u001b[38;5;241m=\u001b[39msession\u001b[38;5;241m.\u001b[39mhandle))\n\u001b[1;32m    110\u001b[0m \u001b[38;5;28;01mreturn\u001b[39;00m \u001b[38;5;28mself\u001b[39m\u001b[38;5;241m.\u001b[39mme\n",
      "\u001b[0;31mValueError\u001b[0m: Either session_string or login and password should be provided."
     ]
    }
   ],
   "source": [
    "from atproto import Client, client_utils\n",
    "from dotenv import load_dotenv\n",
    "import sqlite3\n",
    "import time \n",
    "import os\n",
    "\n",
    "load_dotenv()\n",
    "\n",
    "username = os.getenv('username')\n",
    "password = os.getenv('password')\n",
    "\n",
    "client = Client()\n",
    "client.login(username, password)"
   ]
  },
  {
   "cell_type": "code",
   "execution_count": 7,
   "metadata": {},
   "outputs": [
    {
     "name": "stdout",
     "output_type": "stream",
     "text": [
      "Database setup complete. Starting feed...\n"
     ]
    }
   ],
   "source": [
    "# Set up SQLite database\n",
    "conn = sqlite3.connect('bsky_posts.db')\n",
    "cursor = conn.cursor()\n",
    "\n",
    "# Create table if it doesn't exist\n",
    "cursor.execute('''\n",
    "    CREATE TABLE IF NOT EXISTS posts (\n",
    "        id INTEGER PRIMARY KEY AUTOINCREMENT,\n",
    "        author TEXT,\n",
    "        text TEXT\n",
    "    )\n",
    "''')\n",
    "conn.commit()\n",
    "\n",
    "print(\"Database setup complete. Starting feed...\")"
   ]
  },
  {
   "cell_type": "code",
   "execution_count": 8,
   "metadata": {},
   "outputs": [],
   "source": [
    "# Keep track of the most recent post we've seen\n",
    "last_seen_post = None\n",
    "\n",
    "while True:\n",
    "    try:\n",
    "        # Get the timeline\n",
    "        timeline = client.get_timeline(limit=50)  # Adjust limit as needed\n",
    "\n",
    "        # Iterate through posts, newest first\n",
    "        for post in reversed(timeline.feed):\n",
    "            # If we've seen this post before, skip to the next one\n",
    "            if last_seen_post and post.post.cid == last_seen_post:\n",
    "                break\n",
    "            \n",
    "            # Insert post into database\n",
    "            cursor.execute('''\n",
    "                INSERT INTO posts (author, text) VALUES (?, ?)\n",
    "            ''', (post.post.author.handle, post.post.record.text))\n",
    "            \n",
    "            # # Print post details\n",
    "            # print(f\"Author: {post.post.author.handle}\")\n",
    "            # print(f\"Text: {post.post.record.text}\")\n",
    "            # print(\"---\")\n",
    "\n",
    "        # Commit the changes to the database\n",
    "        conn.commit()\n",
    "\n",
    "        # Update the last seen post\n",
    "        if timeline.feed:\n",
    "            last_seen_post = timeline.feed[0].post.cid\n",
    "\n",
    "        # Wait for a bit before checking again\n",
    "        time.sleep(60)  # Wait for 60 seconds\n",
    "        \n",
    "    except KeyboardInterrupt:\n",
    "        print(\"\\nExiting the feed loop...\")\n",
    "        break\n",
    "    except Exception as e:\n",
    "        print(f\"An error occurred: {e}\")\n",
    "        print(\"Waiting before trying again...\")\n",
    "        time.sleep(300)  # Wait for 5 minutes before trying again\n",
    "\n",
    "# Close the database connection\n",
    "conn.close()\n",
    "print(\"Database connection closed. Exiting program.\")"
   ]
  },
  {
   "cell_type": "code",
   "execution_count": null,
   "metadata": {},
   "outputs": [],
   "source": []
  },
  {
   "cell_type": "code",
   "execution_count": null,
   "metadata": {},
   "outputs": [],
   "source": []
  },
  {
   "cell_type": "markdown",
   "metadata": {},
   "source": [
    "# read the data "
   ]
  },
  {
   "cell_type": "code",
   "execution_count": 5,
   "metadata": {},
   "outputs": [],
   "source": [
    "# Connect to the database\n",
    "conn = sqlite3.connect('bsky_posts.db')\n",
    "cursor = conn.cursor()\n",
    "\n",
    "# Read all posts from the database\n",
    "cursor.execute('SELECT * FROM posts')\n",
    "posts = cursor.fetchall()"
   ]
  },
  {
   "cell_type": "code",
   "execution_count": 6,
   "metadata": {},
   "outputs": [
    {
     "name": "stdout",
     "output_type": "stream",
     "text": [
      "Total posts: 3884\n",
      "\n",
      "Sample of posts:\n",
      "\n",
      "Post ID: 1\n",
      "Author: avt.im\n",
      "Text: A part of those dynamics is that more and more papers are getting submitted to ML venues, while other venues grow slower if at all.\n",
      "\n",
      "Even people who repeatedly complain about ML venues still submit there, even work they could instead send to various journals. This isn’t by accident.\n",
      "--------------------------------------------------\n",
      "\n",
      "Post ID: 2\n",
      "Author: neuripsconf.bsky.social\n",
      "Text: NeurIPS Conference is now Live on Bluesky! \n",
      "\n",
      "-NeurIPS2024 Communication Chairs\n",
      "--------------------------------------------------\n",
      "\n",
      "Post ID: 3\n",
      "Author: merve.bsky.social\n",
      "Text: something small but might approaches\n",
      "--------------------------------------------------\n",
      "\n",
      "Post ID: 4\n",
      "Author: nicoritschel.com\n",
      "Text: Metrics for when updating multiple similar queries is annoying.\n",
      "\n",
      "If code is more your thing, that's okay too & will be supported. Note the SQL— there's no new expression language to learn.\n",
      "--------------------------------------------------\n",
      "\n",
      "Post ID: 5\n",
      "Author: nsaphra.bsky.social\n",
      "Text: One of my favorite animations ever, but a bit distressing\n",
      "--------------------------------------------------\n"
     ]
    }
   ],
   "source": [
    "# Display the posts\n",
    "print(f\"Total posts: {len(posts)}\")\n",
    "print(\"\\nSample of posts:\")\n",
    "for post in posts[:5]:  # Show first 5 posts\n",
    "    post_id, author, text = post\n",
    "    print(f\"\\nPost ID: {post_id}\")\n",
    "    print(f\"Author: {author}\")\n",
    "    print(f\"Text: {text}\")\n",
    "    print(\"-\" * 50)\n",
    "\n",
    "# Close the connection\n",
    "conn.close()"
   ]
  },
  {
   "cell_type": "markdown",
   "metadata": {},
   "source": [
    "# pass the data to a llm "
   ]
  },
  {
   "cell_type": "code",
   "execution_count": null,
   "metadata": {},
   "outputs": [],
   "source": [
    "#| echo: False\n",
    "#| output: False\n",
    "\n",
    "from dotenv import load_dotenv\n",
    "import os\n",
    "# Load environment variables from .env file\n",
    "load_dotenv()\n",
    "\n",
    "# Get API key from environment variables\n",
    "google_api_key = os.getenv('google_api_key')\n",
    "# "
   ]
  }
 ],
 "metadata": {
  "kernelspec": {
   "display_name": "base",
   "language": "python",
   "name": "python3"
  },
  "language_info": {
   "codemirror_mode": {
    "name": "ipython",
    "version": 3
   },
   "file_extension": ".py",
   "mimetype": "text/x-python",
   "name": "python",
   "nbconvert_exporter": "python",
   "pygments_lexer": "ipython3",
   "version": "3.12.2"
  }
 },
 "nbformat": 4,
 "nbformat_minor": 2
}
